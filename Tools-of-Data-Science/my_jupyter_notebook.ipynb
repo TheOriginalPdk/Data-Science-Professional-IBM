{
  "metadata": {
    "language_info": {
      "codemirror_mode": {
        "name": "python",
        "version": 3
      },
      "file_extension": ".py",
      "mimetype": "text/x-python",
      "name": "python",
      "nbconvert_exporter": "python",
      "pygments_lexer": "ipython3",
      "version": "3.8"
    },
    "kernelspec": {
      "name": "python",
      "display_name": "Pyolite",
      "language": "python"
    }
  },
  "nbformat_minor": 4,
  "nbformat": 4,
  "cells": [
    {
      "cell_type": "markdown",
      "source": "# My Jupyter Notebook on IBM Watson Studio",
      "metadata": {
        "tags": []
      }
    },
    {
      "cell_type": "markdown",
      "source": "<b> Panduka Weerasinghe </b>",
      "metadata": {}
    },
    {
      "cell_type": "markdown",
      "source": "Assistant Accountant",
      "metadata": {}
    },
    {
      "cell_type": "markdown",
      "source": "<i>I am interested in data science because I want to integrate the strength of AI and ML with the demands of business to provide effective solutions and offer in-depth insights into problems that an organization must address or find underlying trends to seek new potential discoveries. </i>",
      "metadata": {}
    },
    {
      "cell_type": "markdown",
      "source": "### The Following Code will generate a random integer between 1 and 1000",
      "metadata": {}
    },
    {
      "cell_type": "code",
      "source": "import random\n\nRandom_int = random.randint(1,1000)\n\nprint(Random_int)",
      "metadata": {
        "trusted": true
      },
      "execution_count": 14,
      "outputs": [
        {
          "name": "stdout",
          "text": "205\n",
          "output_type": "stream"
        }
      ]
    },
    {
      "cell_type": "markdown",
      "source": "<hr>",
      "metadata": {}
    },
    {
      "cell_type": "markdown",
      "source": "<u> Technologies I think will make a significant impact in the next decade </u>",
      "metadata": {}
    },
    {
      "cell_type": "markdown",
      "source": "<ul> \n    <li>Machine Learning</li>\n    <li>Natural language processing</li>\n    <li>Robotics</li>\n    <li>Computer Vision</li>\n</ul>",
      "metadata": {}
    },
    {
      "cell_type": "markdown",
      "source": "<table>\n    <tr>\n        <th>CAR</th>\n        <th>ACCELERATION(kmph 0-100)</th>\n        <th>TOP SPEED (kmph)</th>\n    </tr>\n        <tr>\n        <td>Bugatti Chiron</td>\n        <td>2.4seconds</td>\n        <td>440kmph</td>\n    </tr>\n        <tr>\n        <td>Koenigsegg Agera RS</td>\n        <td>2.6seconds</td>\n        <td>447kmph</td>\n    </tr>\n        </tr>\n        <tr>\n        <td>McLaren speedtail</td>\n        <td>3.0 seconds</td>\n        <td>403kmph</td>\n    </tr>\n</table>",
      "metadata": {}
    },
    {
      "cell_type": "markdown",
      "source": "<a href=\"https://www.coursera.org\">A Great website for learning</a>\n",
      "metadata": {}
    },
    {
      "cell_type": "code",
      "source": "",
      "metadata": {},
      "execution_count": null,
      "outputs": []
    }
  ]
}